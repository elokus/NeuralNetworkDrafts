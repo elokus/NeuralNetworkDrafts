{
 "cells": [
  {
   "cell_type": "raw",
   "source": [
    "# Feature Extractor and XGBoost\n",
    "Load tickdata and generate Features for XGBoost"
   ],
   "metadata": {
    "collapsed": false,
    "pycharm": {
     "name": "#%% raw\n"
    }
   }
  },
  {
   "cell_type": "markdown",
   "source": [
    "Dependecies"
   ],
   "metadata": {
    "collapsed": false,
    "pycharm": {
     "name": "#%% md\n"
    }
   }
  },
  {
   "cell_type": "code",
   "execution_count": 1,
   "outputs": [],
   "source": [
    "import pandas as pd\n",
    "import numpy as np\n",
    "import os\n",
    "# add global to sys\n",
    "import sys\n",
    "sys.path.insert(0, 'C:/Users/Lukasz/Documents/python/global_input')\n"
   ],
   "metadata": {
    "collapsed": false,
    "pycharm": {
     "name": "#%%\n"
    }
   }
  },
  {
   "cell_type": "markdown",
   "source": [
    "Load FileExtractor class for loading and aggregating data from file"
   ],
   "metadata": {
    "collapsed": false,
    "pycharm": {
     "name": "#%% md\n"
    }
   }
  },
  {
   "cell_type": "code",
   "execution_count": 3,
   "outputs": [],
   "source": [
    "from packages.FileHandler import FileExtractor\n",
    "path = 'C:/Users/Lukasz/Documents/python/global_input/data/aggregated'\n",
    "prefix = \"BTCUSDT\"\n",
    "timeframes = [\"5T\"]\n",
    "start_date = \"2015-01-01 00:00:00\"\n",
    "data = FileExtractor(path, prefix, timeframes, start_date)\n",
    "df = data.data_dict[timeframes[0]]"
   ],
   "metadata": {
    "collapsed": false,
    "pycharm": {
     "name": "#%%\n"
    }
   }
  },
  {
   "cell_type": "markdown",
   "source": [
    "add Features to DataFrame with custom Function and TAlib package\n",
    "than add lags = 10 to open, high, low, close and volume"
   ],
   "metadata": {
    "collapsed": false,
    "pycharm": {
     "name": "#%% md\n"
    }
   }
  },
  {
   "cell_type": "code",
   "execution_count": 9,
   "outputs": [],
   "source": [
    "from packages.addFeatures import add_features, add_lags\n",
    "data = add_features(df)\n",
    "# lag features\n",
    "lags = 10\n",
    "data, cols = add_lags(data, lags)"
   ],
   "metadata": {
    "collapsed": false,
    "pycharm": {
     "name": "#%%\n"
    }
   }
  },
  {
   "cell_type": "markdown",
   "source": [
    "Split and normalize data for train and test, normalize using just train std"
   ],
   "metadata": {
    "collapsed": false,
    "pycharm": {
     "name": "#%% md\n"
    }
   }
  },
  {
   "cell_type": "code",
   "execution_count": 10,
   "outputs": [],
   "source": [
    "# split data into train/test sets\n",
    "split = int(len(data) * 0.67)\n",
    "train = data.iloc[:split].copy()\n",
    "test = data.iloc[split:].copy()\n",
    "\n",
    "# normalize data\n",
    "mu, std = train.mean(), train.std()\n",
    "train_ = (train - mu) / std # normalized train data (using train moments)\n",
    "test_ = (test - mu) / std"
   ],
   "metadata": {
    "collapsed": false,
    "pycharm": {
     "name": "#%%\n"
    }
   }
  },
  {
   "cell_type": "markdown",
   "source": [
    "# Train Support Vector Classifier Model\n",
    "Predict direction"
   ],
   "metadata": {
    "collapsed": false,
    "pycharm": {
     "name": "#%% md\n"
    }
   }
  },
  {
   "cell_type": "code",
   "execution_count": 7,
   "outputs": [
    {
     "ename": "NameError",
     "evalue": "name 'train_' is not defined",
     "output_type": "error",
     "traceback": [
      "\u001B[1;31m---------------------------------------------------------------------------\u001B[0m",
      "\u001B[1;31mNameError\u001B[0m                                 Traceback (most recent call last)",
      "\u001B[1;32m~\\AppData\\Local\\Temp\\ipykernel_5564\\523380121.py\u001B[0m in \u001B[0;36m<module>\u001B[1;34m\u001B[0m\n\u001B[0;32m      4\u001B[0m \u001B[0mclf\u001B[0m \u001B[1;33m=\u001B[0m \u001B[0mSVC\u001B[0m\u001B[1;33m(\u001B[0m\u001B[0mC\u001B[0m\u001B[1;33m=\u001B[0m\u001B[1;36m1\u001B[0m\u001B[1;33m)\u001B[0m\u001B[1;33m\u001B[0m\u001B[1;33m\u001B[0m\u001B[0m\n\u001B[0;32m      5\u001B[0m \u001B[1;33m\u001B[0m\u001B[0m\n\u001B[1;32m----> 6\u001B[1;33m \u001B[0mmodel\u001B[0m \u001B[1;33m=\u001B[0m \u001B[0mclf\u001B[0m\u001B[1;33m.\u001B[0m\u001B[0mfit\u001B[0m\u001B[1;33m(\u001B[0m\u001B[0mtrain_\u001B[0m\u001B[1;33m[\u001B[0m\u001B[0mcols\u001B[0m\u001B[1;33m]\u001B[0m\u001B[1;33m,\u001B[0m \u001B[0mtrain\u001B[0m\u001B[1;33m[\u001B[0m\u001B[1;34m'direction'\u001B[0m\u001B[1;33m]\u001B[0m\u001B[1;33m)\u001B[0m\u001B[1;33m\u001B[0m\u001B[1;33m\u001B[0m\u001B[0m\n\u001B[0m\u001B[0;32m      7\u001B[0m \u001B[0my_pred\u001B[0m \u001B[1;33m=\u001B[0m \u001B[0mmodel\u001B[0m\u001B[1;33m.\u001B[0m\u001B[0mpredict\u001B[0m\u001B[1;33m(\u001B[0m\u001B[0mtest_\u001B[0m\u001B[1;33m[\u001B[0m\u001B[0mcols\u001B[0m\u001B[1;33m]\u001B[0m\u001B[1;33m)\u001B[0m\u001B[1;33m\u001B[0m\u001B[1;33m\u001B[0m\u001B[0m\n\u001B[0;32m      8\u001B[0m \u001B[0maccuracy_score\u001B[0m\u001B[1;33m(\u001B[0m\u001B[0mtest\u001B[0m\u001B[1;33m[\u001B[0m\u001B[1;34m'direction'\u001B[0m\u001B[1;33m]\u001B[0m\u001B[1;33m,\u001B[0m \u001B[0my_pred\u001B[0m\u001B[1;33m)\u001B[0m\u001B[1;33m\u001B[0m\u001B[1;33m\u001B[0m\u001B[0m\n",
      "\u001B[1;31mNameError\u001B[0m: name 'train_' is not defined"
     ]
    }
   ],
   "source": [
    "from sklearn.svm import SVC\n",
    "from sklearn.metrics import accuracy_score\n",
    "\n",
    "clf = SVC(C=1)\n",
    "\n",
    "model = clf.fit(train_[cols], train['direction'])\n",
    "y_pred = model.predict(test_[cols])\n",
    "accuracy_score(test['direction'], y_pred)"
   ],
   "metadata": {
    "collapsed": false,
    "pycharm": {
     "name": "#%%\n"
    }
   }
  },
  {
   "cell_type": "code",
   "execution_count": 11,
   "outputs": [],
   "source": [
    "# test['signals'] = np.where(y_pred == 1, 1, -1)\n",
    "# test['model'] = test['signals'] * test['returns']\n",
    "# test[['model', 'returns']].cumsum().apply(np.exp).plot()\n",
    "# test[['model', 'returns']].sum().apply(np.exp) -1"
   ],
   "metadata": {
    "collapsed": false,
    "pycharm": {
     "name": "#%%\n"
    }
   }
  },
  {
   "cell_type": "markdown",
   "source": [],
   "metadata": {
    "collapsed": false,
    "pycharm": {
     "name": "#%% md\n"
    }
   }
  },
  {
   "cell_type": "code",
   "execution_count": null,
   "outputs": [],
   "source": [
    "from sklearn.feature_selection import SelectKBest, f_classif\n",
    "selector = SelectKBest(f_classif, k=int(len(data.columns) * 0.2))\n",
    "ftrs_sel = selector.fit(train_[cols], train['direction']).get_support(indices=True)\n",
    "fsel = train_[cols].columns[ftrs_sel].tolist()\n",
    "\n",
    "model = clf.fit(train_[fsel], train['direction'])\n",
    "y_pred = model.predict(test_[fsel])\n",
    "accuracy_score(test['direction'], y_pred)\n",
    "\n",
    "# backtest\n",
    "test['signals'] = np.where(y_pred == 1, 1, -1)\n",
    "test['model'] = test['signals'] * test['returns']\n",
    "test[['model', 'returns']].cumsum().apply(np.exp).plot()\n",
    "test[['model', 'returns']].sum().apply(np.exp) -1"
   ],
   "metadata": {
    "collapsed": false,
    "pycharm": {
     "name": "#%%\n"
    }
   }
  },
  {
   "cell_type": "code",
   "execution_count": 11,
   "outputs": [
    {
     "data": {
      "text/plain": "0.5573429482734711"
     },
     "execution_count": 11,
     "metadata": {},
     "output_type": "execute_result"
    }
   ],
   "source": [
    "accuracy_score(test['direction'], y_pred)"
   ],
   "metadata": {
    "collapsed": false,
    "pycharm": {
     "name": "#%%\n"
    }
   }
  },
  {
   "cell_type": "markdown",
   "source": [
    "For 1H Timeframe results: Accuracy 0.548 and with KBest 0.5573429482734711"
   ],
   "metadata": {
    "collapsed": false,
    "pycharm": {
     "name": "#%% md\n"
    }
   }
  },
  {
   "cell_type": "markdown",
   "source": [
    "# Backtest with real prices"
   ],
   "metadata": {
    "collapsed": false,
    "pycharm": {
     "name": "#%% md\n"
    }
   }
  },
  {
   "cell_type": "code",
   "execution_count": 17,
   "outputs": [
    {
     "name": "stdout",
     "output_type": "stream",
     "text": [
      "58.828134205335324\n"
     ]
    }
   ],
   "source": [
    "backtest = df[\"2018-05-09 03:00:00\":].copy()\n",
    "backtest[\"next_close\"] = backtest.close.shift(-1)\n",
    "backtest[\"signals\"] = test['signals']\n",
    "backtest = backtest.reset_index()\n",
    "\n",
    "capital = 100\n",
    "\n",
    "for i in range(len(backtest)-1):\n",
    "    position_size = capital / backtest.loc[i,\"close\"]\n",
    "    if backtest.loc[i,\"signals\"] > 0:\n",
    "        position_return =  backtest.loc[i,\"next_close\"] - backtest.loc[i,\"close\"]\n",
    "    elif backtest.loc[i,\"signals\"] < 0:\n",
    "        position_return =  backtest.loc[i,\"close\"] - backtest.loc[i,\"next_close\"]\n",
    "    reward = position_size * position_return\n",
    "    capital += reward\n",
    "print(capital)\n",
    "\n",
    "\n"
   ],
   "metadata": {
    "collapsed": false,
    "pycharm": {
     "name": "#%%\n"
    }
   }
  },
  {
   "cell_type": "markdown",
   "source": [
    "# Train XGBoost Model\n",
    "For faster computation we will start with \"1H\" Timeframe\n",
    "1. without KBest Features\n",
    "2. with 20% best feature Columns\n"
   ],
   "metadata": {
    "collapsed": false,
    "pycharm": {
     "name": "#%% md\n"
    }
   }
  },
  {
   "cell_type": "code",
   "execution_count": 4,
   "outputs": [],
   "source": [
    "from packages.FileHandler import FileExtractor\n",
    "timeframes = [\"1H\"]\n",
    "data = FileExtractor(path, prefix, timeframes, start_date)\n",
    "df = data.data_dict[timeframes[0]]"
   ],
   "metadata": {
    "collapsed": false,
    "pycharm": {
     "name": "#%%\n"
    }
   }
  },
  {
   "cell_type": "code",
   "execution_count": 6,
   "outputs": [],
   "source": [
    "from packages.addFeatures import add_features, add_lags\n",
    "# add lags\n",
    "data = add_features(df)\n",
    "# lag features\n",
    "lags = 10\n",
    "data, cols = add_lags(data, lags)"
   ],
   "metadata": {
    "collapsed": false,
    "pycharm": {
     "name": "#%%\n"
    }
   }
  },
  {
   "cell_type": "code",
   "execution_count": 8,
   "outputs": [],
   "source": [
    "split = int(len(data) * 0.67)\n",
    "train = data.iloc[:split].copy()\n",
    "test = data.iloc[split:].copy()\n",
    "\n",
    "# normalize data\n",
    "mu, std = train.mean(), train.std()\n",
    "train_ = (train - mu) / std # normalized train data (using train moments)\n",
    "test_ = (test - mu) / std"
   ],
   "metadata": {
    "collapsed": false,
    "pycharm": {
     "name": "#%%\n"
    }
   }
  },
  {
   "cell_type": "code",
   "execution_count": 12,
   "outputs": [
    {
     "data": {
      "text/plain": "0.5378588267924005"
     },
     "execution_count": 12,
     "metadata": {},
     "output_type": "execute_result"
    }
   ],
   "source": [
    "import xgboost as xgb\n",
    "from sklearn.metrics import accuracy_score\n",
    "\n",
    "\n",
    "xgb_cl = xgb.XGBClassifier()\n",
    "model = xgb_cl.fit(train_[cols], train['direction'])\n",
    "y_pred = model.predict(test_[cols])\n",
    "accuracy_score(test['direction'], y_pred)"
   ],
   "metadata": {
    "collapsed": false,
    "pycharm": {
     "name": "#%%\n"
    }
   }
  },
  {
   "cell_type": "markdown",
   "source": [
    "plot return"
   ],
   "metadata": {
    "collapsed": false,
    "pycharm": {
     "name": "#%% md\n"
    }
   }
  },
  {
   "cell_type": "code",
   "execution_count": 13,
   "outputs": [
    {
     "data": {
      "text/plain": "model      14.931550\nreturns    -0.207049\ndtype: float64"
     },
     "execution_count": 13,
     "metadata": {},
     "output_type": "execute_result"
    },
    {
     "data": {
      "text/plain": "<Figure size 432x288 with 1 Axes>",
      "image/png": "[encoded data removed]"
     },
     "metadata": {
      "needs_background": "light"
     },
     "output_type": "display_data"
    }
   ],
   "source": [
    "test['signals'] = np.where(y_pred == 1, 1, -1)\n",
    "test['model'] = test['signals'] * test['returns']\n",
    "test[['model', 'returns']].cumsum().apply(np.exp).plot()\n",
    "test[['model', 'returns']].sum().apply(np.exp) -1"
   ],
   "metadata": {
    "collapsed": false,
    "pycharm": {
     "name": "#%%\n"
    }
   }
  },
  {
   "cell_type": "markdown",
   "source": [
    "# Select Features with SelectKBest"
   ],
   "metadata": {
    "collapsed": false,
    "pycharm": {
     "name": "#%% md\n"
    }
   }
  },
  {
   "cell_type": "code",
   "execution_count": 16,
   "outputs": [
    {
     "data": {
      "text/plain": "model      2.138098\nreturns   -0.207049\ndtype: float64"
     },
     "execution_count": 16,
     "metadata": {},
     "output_type": "execute_result"
    },
    {
     "data": {
      "text/plain": "<Figure size 432x288 with 1 Axes>",
      "image/png": "[encoded data removed]"
     },
     "metadata": {
      "needs_background": "light"
     },
     "output_type": "display_data"
    }
   ],
   "source": [
    "from sklearn.feature_selection import SelectKBest, f_classif\n",
    "selector = SelectKBest(f_classif, k=int(len(data.columns) * 0.2))\n",
    "ftrs_sel = selector.fit(train_[cols], train['direction']).get_support(indices=True)\n",
    "fsel = train_[cols].columns[ftrs_sel].tolist()\n",
    "\n",
    "model = xgb_cl.fit(train_[fsel], train['direction'])\n",
    "y_pred = model.predict(test_[fsel])\n",
    "accuracy_score(test['direction'], y_pred)\n",
    "\n",
    "# backtest\n",
    "test['signals'] = np.where(y_pred == 1, 1, -1)\n",
    "test['model'] = test['signals'] * test['returns']\n",
    "test[['model', 'returns']].cumsum().apply(np.exp).plot()\n",
    "test[['model', 'returns']].sum().apply(np.exp) -1"
   ],
   "metadata": {
    "collapsed": false,
    "pycharm": {
     "name": "#%%\n"
    }
   }
  },
  {
   "cell_type": "markdown",
   "source": [],
   "metadata": {
    "collapsed": false,
    "pycharm": {
     "name": "#%% md\n"
    }
   }
  },
  {
   "cell_type": "code",
   "execution_count": 11,
   "outputs": [
    {
     "data": {
      "text/plain": "0.5411177367910137"
     },
     "execution_count": 11,
     "metadata": {},
     "output_type": "execute_result"
    }
   ],
   "source": [
    "accuracy_score(test['direction'], y_pred)"
   ],
   "metadata": {
    "collapsed": false,
    "pycharm": {
     "name": "#%%\n"
    }
   }
  },
  {
   "cell_type": "code",
   "execution_count": null,
   "outputs": [],
   "source": [
    "# test['signals'] = np.where(y_pred == 1, 1, -1)\n",
    "# test['model'] = test['signals'] * test['returns']\n",
    "# test[['model', 'returns']].cumsum().apply(np.exp).plot()\n",
    "# test[['model', 'returns']].sum().apply(np.exp) -1"
   ],
   "metadata": {
    "collapsed": false,
    "pycharm": {
     "name": "#%%\n"
    }
   }
  }
 ],
 "metadata": {
  "kernelspec": {
   "display_name": "Python 3",
   "language": "python",
   "name": "python3"
  },
  "language_info": {
   "codemirror_mode": {
    "name": "ipython",
    "version": 2
   },
   "file_extension": ".py",
   "mimetype": "text/x-python",
   "name": "python",
   "nbconvert_exporter": "python",
   "pygments_lexer": "ipython2",
   "version": "2.7.6"
  }
 },
 "nbformat": 4,
 "nbformat_minor": 0
}